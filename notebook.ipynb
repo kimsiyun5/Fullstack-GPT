{
 "cells": [
  {
   "cell_type": "code",
   "execution_count": 15,
   "metadata": {},
   "outputs": [],
   "source": [
    "from langchain.chat_models import ChatOpenAI\n",
    "from langchain.prompts import ChatPromptTemplate\n",
    "from langchain.callbacks import StreamingStdOutCallbackHandler\n",
    "\n",
    "chat = ChatOpenAI(\n",
    "    temperature=0.1,\n",
    "    streaming=True,\n",
    "    callbacks=[\n",
    "        StreamingStdOutCallbackHandler(),\n",
    "    ],\n",
    ")\n",
    "\n",
    "programmer_poet = ChatPromptTemplate.from_messages(\n",
    "    [\n",
    "        (\n",
    "            \"system\",\n",
    "            \"You are a specialized poet who creates elegant and witty verses about programming languages and coding concepts. You have deep knowledge of both poetry and programming, allowing you to create accurate technical metaphors while maintaining poetic beauty. You use appropriate programming terminology while keeping the verses accessible to readers with basic programming knowledge.\"),\n",
    "            (\"human\", \"Write a poem about {programming_language} programming language.\",\n",
    "        ),\n",
    "    ]\n",
    ")\n",
    "\n",
    "chef_chain = programmer_poet | chat"
   ]
  },
  {
   "cell_type": "code",
   "execution_count": 16,
   "metadata": {},
   "outputs": [
    {
     "name": "stdout",
     "output_type": "stream",
     "text": [
      "In the realm of web, a language does reign,\n",
      "Javascript by name, it's not in vain.\n",
      "With functions and loops, it dances and sings,\n",
      "Interacting with elements, pulling the strings.\n",
      "\n",
      "Dynamic and loose, it adapts with ease,\n",
      "From frontend to backend, it aims to please.\n",
      "Callbacks and promises, async awaits,\n",
      "Handling events, it never hesitates.\n",
      "\n",
      "Objects and arrays, its data structures strong,\n",
      "Prototypes and classes, where it belongs.\n",
      "From variables to constants, it defines its scope,\n",
      "Hoisting and closures, giving programmers hope.\n",
      "\n",
      "With libraries and frameworks, it thrives and grows,\n",
      "React, Angular, Vue, the list only grows.\n",
      "Node.js on the server, it expands its reach,\n",
      "Javascript, the language, always ready to teach.\n",
      "\n",
      "So raise a toast to this language so grand,\n",
      "Javascript, the cornerstone of the web's vast land.\n",
      "With its syntax so familiar, its power so clear,\n",
      "In the world of programming, it will always be near.This poem celebrates the programming language JavaScript and its significance in the realm of web development. Let's break it down line by line to uncover the technical and deeper meanings within the text.\n",
      "\n",
      "1. \"In the realm of web, a language does reign,\" - The poet sets the stage by establishing the dominance of JavaScript in the world of web development. The word \"reign\" implies power and authority, suggesting that JavaScript is a key player in this domain.\n",
      "\n",
      "2. \"Javascript by name, it's not in vain.\" - Here, the poet directly names JavaScript and emphasizes that its presence is purposeful and meaningful. The phrase \"not in vain\" suggests that JavaScript serves a valuable function in the web development landscape.\n",
      "\n",
      "3. \"With functions and loops, it dances and sings,\" - This line highlights some of the fundamental features of JavaScript, such as functions and loops, which are essential for creating dynamic and interactive web applications. The use of \"dances and sings\" adds a playful and creative tone to the description of JavaScript's capabilities.\n",
      "\n",
      "4. \"Interacting with elements, pulling the strings.\" - JavaScript is depicted as a powerful force that interacts with elements on a webpage, controlling and manipulating them like a puppeteer pulling strings. This imagery conveys the language's ability to dynamically alter the content and behavior of web pages.\n",
      "\n",
      "5. \"Dynamic and loose, it adapts with ease,\" - The poet characterizes JavaScript as dynamic and flexible, capable of adapting to different situations effortlessly. This flexibility is a key feature of JavaScript that allows developers to create versatile and responsive web applications.\n",
      "\n",
      "6. \"From frontend to backend, it aims to please.\" - JavaScript is versatile enough to be used both on the frontend (client-side) and backend (server-side) of web development. The phrase \"aims to please\" suggests that JavaScript is focused on satisfying the needs of developers and users alike.\n",
      "\n",
      "7. \"Callbacks and promises, async awaits,\" - Here, the poet references asynchronous programming concepts like callbacks, promises, and async/await, which are crucial for managing asynchronous operations in JavaScript. These features enhance the language's ability to handle complex tasks efficiently.\n",
      "\n",
      "8. \"Handling events, it never hesitates.\" - JavaScript is known for its event-driven nature, where it responds to user interactions and system events. The language is depicted as proactive and responsive, never hesitating to execute tasks when triggered by events.\n",
      "\n",
      "9. \"Objects and arrays, its data structures strong,\" - JavaScript's robust data structures, such as objects and arrays, are highlighted here. These data structures are essential for organizing and manipulating data within JavaScript programs.\n",
      "\n",
      "10. \"Prototypes and classes, where it belongs.\" - The poet mentions prototypes and classes, which are key concepts in JavaScript's object-oriented programming paradigm. This line emphasizes JavaScript's place in the realm of object-oriented languages.\n",
      "\n",
      "11. \"From variables to constants, it defines its scope,\" - JavaScript allows developers to declare variables and constants to store and manage data. The language's ability to define scope, or the visibility of variables, is crucial for writing maintainable and efficient code.\n",
      "\n",
      "12. \"Hoisting and closures, giving programmers hope.\" - JavaScript features like hoisting and closures are advanced concepts that can be powerful tools in a developer's toolkit. The mention of \"hope\" suggests that these features provide solutions to complex programming challenges.\n",
      "\n",
      "13. \"With libraries and frameworks, it thrives and grows,\" - JavaScript's ecosystem is enriched by a wide range of libraries and frameworks that extend its capabilities. These external tools help developers build sophisticated web applications more efficiently.\n",
      "\n",
      "14. \"React, Angular, Vue, the list only grows.\" - The poet mentions popular JavaScript frameworks like React, Angular, and Vue, which have gained widespread adoption in the web development community. These frameworks demonstrate the diversity and innovation within the JavaScript ecosystem.\n",
      "\n",
      "15. \"Node.js on the server, it expands its reach,\" - Node.js, a runtime environment for executing JavaScript on the server-side, is highlighted here. This line showcases JavaScript's versatility in being used not just on the client-side but also on the server-side to build scalable web applications.\n",
      "\n",
      "16. \"Javascript, the language, always ready to teach.\" - JavaScript is portrayed as a teacher, always ready to impart knowledge and empower developers to create innovative solutions. This line underscores the educational value of JavaScript in the programming community.\n",
      "\n",
      "17. \"So raise a toast to this language so grand,\" - The poet invites readers to celebrate and appreciate the greatness of JavaScript as a foundational language in web development. The language is praised for its significance and impact in the digital world.\n",
      "\n",
      "18. \"Javascript, the cornerstone of the web's vast land.\" - JavaScript is likened to a cornerstone, a fundamental building block that supports and sustains the vast landscape of the web. This metaphor emphasizes the foundational role of JavaScript in shaping the modern web experience.\n",
      "\n",
      "19. \"With its syntax so familiar, its power so clear,\" - The familiarity and clarity of JavaScript's syntax are highlighted here. JavaScript's syntax, which is similar to other programming languages like C and Java, is praised for its accessibility and expressiveness.\n",
      "\n",
      "20. \"In the world of programming, it will always be near.\" - The poem concludes by asserting that JavaScript will always have a prominent place in the world of programming. Its enduring relevance and utility ensure that it remains a vital tool for developers across various domains.\n",
      "\n",
      "Overall, this poem eloquently captures the essence of JavaScript as a versatile, powerful, and essential language in the realm of web development. Through vivid imagery, technical references, and a sense of admiration, the poet celebrates JavaScript's impact and enduring presence in the ever-evolving landscape of programming."
     ]
    },
    {
     "data": {
      "text/plain": [
       "AIMessageChunk(content='This poem celebrates the programming language JavaScript and its significance in the realm of web development. Let\\'s break it down line by line to uncover the technical and deeper meanings within the text.\\n\\n1. \"In the realm of web, a language does reign,\" - The poet sets the stage by establishing the dominance of JavaScript in the world of web development. The word \"reign\" implies power and authority, suggesting that JavaScript is a key player in this domain.\\n\\n2. \"Javascript by name, it\\'s not in vain.\" - Here, the poet directly names JavaScript and emphasizes that its presence is purposeful and meaningful. The phrase \"not in vain\" suggests that JavaScript serves a valuable function in the web development landscape.\\n\\n3. \"With functions and loops, it dances and sings,\" - This line highlights some of the fundamental features of JavaScript, such as functions and loops, which are essential for creating dynamic and interactive web applications. The use of \"dances and sings\" adds a playful and creative tone to the description of JavaScript\\'s capabilities.\\n\\n4. \"Interacting with elements, pulling the strings.\" - JavaScript is depicted as a powerful force that interacts with elements on a webpage, controlling and manipulating them like a puppeteer pulling strings. This imagery conveys the language\\'s ability to dynamically alter the content and behavior of web pages.\\n\\n5. \"Dynamic and loose, it adapts with ease,\" - The poet characterizes JavaScript as dynamic and flexible, capable of adapting to different situations effortlessly. This flexibility is a key feature of JavaScript that allows developers to create versatile and responsive web applications.\\n\\n6. \"From frontend to backend, it aims to please.\" - JavaScript is versatile enough to be used both on the frontend (client-side) and backend (server-side) of web development. The phrase \"aims to please\" suggests that JavaScript is focused on satisfying the needs of developers and users alike.\\n\\n7. \"Callbacks and promises, async awaits,\" - Here, the poet references asynchronous programming concepts like callbacks, promises, and async/await, which are crucial for managing asynchronous operations in JavaScript. These features enhance the language\\'s ability to handle complex tasks efficiently.\\n\\n8. \"Handling events, it never hesitates.\" - JavaScript is known for its event-driven nature, where it responds to user interactions and system events. The language is depicted as proactive and responsive, never hesitating to execute tasks when triggered by events.\\n\\n9. \"Objects and arrays, its data structures strong,\" - JavaScript\\'s robust data structures, such as objects and arrays, are highlighted here. These data structures are essential for organizing and manipulating data within JavaScript programs.\\n\\n10. \"Prototypes and classes, where it belongs.\" - The poet mentions prototypes and classes, which are key concepts in JavaScript\\'s object-oriented programming paradigm. This line emphasizes JavaScript\\'s place in the realm of object-oriented languages.\\n\\n11. \"From variables to constants, it defines its scope,\" - JavaScript allows developers to declare variables and constants to store and manage data. The language\\'s ability to define scope, or the visibility of variables, is crucial for writing maintainable and efficient code.\\n\\n12. \"Hoisting and closures, giving programmers hope.\" - JavaScript features like hoisting and closures are advanced concepts that can be powerful tools in a developer\\'s toolkit. The mention of \"hope\" suggests that these features provide solutions to complex programming challenges.\\n\\n13. \"With libraries and frameworks, it thrives and grows,\" - JavaScript\\'s ecosystem is enriched by a wide range of libraries and frameworks that extend its capabilities. These external tools help developers build sophisticated web applications more efficiently.\\n\\n14. \"React, Angular, Vue, the list only grows.\" - The poet mentions popular JavaScript frameworks like React, Angular, and Vue, which have gained widespread adoption in the web development community. These frameworks demonstrate the diversity and innovation within the JavaScript ecosystem.\\n\\n15. \"Node.js on the server, it expands its reach,\" - Node.js, a runtime environment for executing JavaScript on the server-side, is highlighted here. This line showcases JavaScript\\'s versatility in being used not just on the client-side but also on the server-side to build scalable web applications.\\n\\n16. \"Javascript, the language, always ready to teach.\" - JavaScript is portrayed as a teacher, always ready to impart knowledge and empower developers to create innovative solutions. This line underscores the educational value of JavaScript in the programming community.\\n\\n17. \"So raise a toast to this language so grand,\" - The poet invites readers to celebrate and appreciate the greatness of JavaScript as a foundational language in web development. The language is praised for its significance and impact in the digital world.\\n\\n18. \"Javascript, the cornerstone of the web\\'s vast land.\" - JavaScript is likened to a cornerstone, a fundamental building block that supports and sustains the vast landscape of the web. This metaphor emphasizes the foundational role of JavaScript in shaping the modern web experience.\\n\\n19. \"With its syntax so familiar, its power so clear,\" - The familiarity and clarity of JavaScript\\'s syntax are highlighted here. JavaScript\\'s syntax, which is similar to other programming languages like C and Java, is praised for its accessibility and expressiveness.\\n\\n20. \"In the world of programming, it will always be near.\" - The poem concludes by asserting that JavaScript will always have a prominent place in the world of programming. Its enduring relevance and utility ensure that it remains a vital tool for developers across various domains.\\n\\nOverall, this poem eloquently captures the essence of JavaScript as a versatile, powerful, and essential language in the realm of web development. Through vivid imagery, technical references, and a sense of admiration, the poet celebrates JavaScript\\'s impact and enduring presence in the ever-evolving landscape of programming.')"
      ]
     },
     "execution_count": 16,
     "metadata": {},
     "output_type": "execute_result"
    }
   ],
   "source": [
    "poetry_explainer = ChatPromptTemplate.from_messages(\n",
    "    [\n",
    "        (\n",
    "            \"system\",\n",
    "            \"You are an expert poetry analyst specialized in breaking down poems line by line. You focus on explaining both technical poetic elements (rhyme scheme, meter, literary devices) and deeper meanings without losing the poem's emotional essence. You use clear, accessible language and always provide specific examples from the text to support your analysis.\",\n",
    "        ),\n",
    "        (\"human\", \"{poet}\"),\n",
    "    ]\n",
    ")\n",
    "\n",
    "\n",
    "veg_chain = poetry_explainer | chat\n",
    "\n",
    "\n",
    "final_chain = {\"poet\": chef_chain} | veg_chain\n",
    "\n",
    "final_chain.invoke({\"programming_language\": \"Javascript\"})"
   ]
  }
 ],
 "metadata": {
  "kernelspec": {
   "display_name": "env",
   "language": "python",
   "name": "python3"
  },
  "language_info": {
   "codemirror_mode": {
    "name": "ipython",
    "version": 3
   },
   "file_extension": ".py",
   "mimetype": "text/x-python",
   "name": "python",
   "nbconvert_exporter": "python",
   "pygments_lexer": "ipython3",
   "version": "3.11.11"
  }
 },
 "nbformat": 4,
 "nbformat_minor": 2
}
